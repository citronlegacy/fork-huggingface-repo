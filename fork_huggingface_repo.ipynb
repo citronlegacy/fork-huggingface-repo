{
  "nbformat": 4,
  "nbformat_minor": 0,
  "metadata": {
    "colab": {
      "provenance": []
    },
    "kernelspec": {
      "name": "python3",
      "display_name": "Python 3"
    },
    "language_info": {
      "name": "python"
    }
  },
  "cells": [
    {
      "cell_type": "markdown",
      "source": [
        "# Fork Huggingface Repo\n",
        "By Citron Legacy\n",
        "\n",
        "This is a simple Colab project which will download an existing Huggingface Repo and upload it to your repo. Its useful if you have a slow internet.\n",
        "\n",
        "Note: This assume you have already made an empty project under your name.\n"
      ],
      "metadata": {
        "id": "CzlbtsnNsk4w"
      }
    },
    {
      "cell_type": "code",
      "execution_count": null,
      "metadata": {
        "cellView": "form",
        "id": "0tWH5g3osijs"
      },
      "outputs": [],
      "source": [
        "!pip install -q huggingface_hub\n",
        "\n",
        "from huggingface_hub import HfApi, snapshot_download, create_repo, upload_folder\n",
        "import os\n",
        "import shutil\n",
        "\n",
        "# ==== USER SETTINGS ====\n",
        "SOURCE_REPO = \"username/example_project\" #@param {type:\"string\"}\n",
        "TARGET_REPO = \"your_username/your_project\" #@param {type:\"string\"}\n",
        "HF_TOKEN = \"your_huggingface_token_here\"  #@param {type:\"string\"}\n",
        "\n",
        "#@markdown Huggingface Token Notes:\n",
        "\n",
        "#@markdown 1. Use finegrain control so that the token only has access to the specific repo you are uploading to.\n",
        "\n",
        "#@markdown 2. Delete your token after running this app.\n",
        "\n",
        "#@markdown 3. If you dont know how to make a Huggingface token you can make it here: https://huggingface.co/settings/tokens\n",
        "# =======================\n",
        "\n",
        "# Login to Hugging Face Hub\n",
        "from huggingface_hub import login\n",
        "login(token=HF_TOKEN)\n",
        "\n",
        "# Download the source repo snapshot\n",
        "source_dir = snapshot_download(repo_id=SOURCE_REPO, repo_type=\"model\", local_dir=\"./neta_lumina\")\n",
        "\n",
        "# Optional: Create the target repo (skip if already created)\n",
        "api = HfApi()\n",
        "try:\n",
        "    api.create_repo(repo_id=TARGET_REPO, token=HF_TOKEN, exist_ok=True)\n",
        "except Exception as e:\n",
        "    print(\"Repo already exists or other issue:\", e)\n",
        "\n",
        "# Upload the contents to your forked repo\n",
        "upload_folder(\n",
        "    folder_path=\"./neta_lumina\",\n",
        "    path_in_repo=\"\",\n",
        "    repo_id=TARGET_REPO,\n",
        "    token=HF_TOKEN,\n",
        "    repo_type=\"model\",\n",
        ")\n",
        "\n",
        "print(f\"✅ Upload complete: https://huggingface.co/{TARGET_REPO}\")\n"
      ]
    }
  ]
}